{
 "cells": [
  {
   "cell_type": "code",
   "execution_count": 1,
   "metadata": {},
   "outputs": [
    {
     "name": "stdout",
     "output_type": "stream",
     "text": [
      "[<selenium.webdriver.remote.webelement.WebElement (session=\"42c8edb459407f37c75471c2ae75bd1b\", element=\"4e7438bd-85e8-4c0f-8ec2-9861b1b7a5bd\")>, <selenium.webdriver.remote.webelement.WebElement (session=\"42c8edb459407f37c75471c2ae75bd1b\", element=\"8fa5d19f-074f-42c5-bd4f-f33f7012f63e\")>, <selenium.webdriver.remote.webelement.WebElement (session=\"42c8edb459407f37c75471c2ae75bd1b\", element=\"8395c174-e66c-4159-8d30-3ca14dfec0cd\")>, <selenium.webdriver.remote.webelement.WebElement (session=\"42c8edb459407f37c75471c2ae75bd1b\", element=\"e9f68b6d-f3e8-4c7f-b913-3f80f43a13e8\")>, <selenium.webdriver.remote.webelement.WebElement (session=\"42c8edb459407f37c75471c2ae75bd1b\", element=\"cf584a90-6495-4c70-bc4e-58361f33ae76\")>, <selenium.webdriver.remote.webelement.WebElement (session=\"42c8edb459407f37c75471c2ae75bd1b\", element=\"a15a31a9-f4f6-4d1f-8858-dd64a1a76665\")>]\n",
      "6\n",
      "http://feeds.soundcloud.com/stream/354312284-dr-harry-henshaw-relaxing-music-fantasia.mp3\n"
     ]
    }
   ],
   "source": [
    "import time\n",
    "from selenium import webdriver\n",
    "\n",
    "\n",
    "# prepare the option for the chrome driver\n",
    "options = webdriver.ChromeOptions()\n",
    "# options.add_argument('headless')\n",
    "\n",
    "driver = webdriver.Chrome('./chromedriver',options=options)  # Optional argument, if not specified will search path.\n",
    "driver.get('https://podcasts.apple.com/us/podcast/relaxation-music-for-stress/id1141215125');\n",
    "time.sleep(10) # Let the user actually see something!\n",
    "search_box = driver.find_elements_by_class_name('icon-play')\n",
    "print(search_box)\n",
    "print(len(search_box))\n",
    "search_box[1].click()\n",
    "audio_src = driver.find_element_by_id('apple-music-player').get_attribute(\"src\")\n",
    "\n",
    "print(audio_src)\n",
    "\n",
    "\n",
    "time.sleep(5) # Let the user actually see something!\n",
    "driver.quit()"
   ]
  },
  {
   "cell_type": "code",
   "execution_count": 4,
   "metadata": {},
   "outputs": [
    {
     "data": {
      "text/plain": [
       "303"
      ]
     },
     "execution_count": 4,
     "metadata": {},
     "output_type": "execute_result"
    }
   ],
   "source": [
    "import requests\n",
    "\n",
    "r = requests.get(audio_src, allow_redirects=True)\n",
    "open('./data/podcasts_files/audio.mp3', 'wb').write(r.content)"
   ]
  },
  {
   "cell_type": "code",
   "execution_count": null,
   "metadata": {},
   "outputs": [],
   "source": []
  }
 ],
 "metadata": {
  "kernelspec": {
   "display_name": "Python 3",
   "language": "python",
   "name": "python3"
  },
  "language_info": {
   "codemirror_mode": {
    "name": "ipython",
    "version": 3
   },
   "file_extension": ".py",
   "mimetype": "text/x-python",
   "name": "python",
   "nbconvert_exporter": "python",
   "pygments_lexer": "ipython3",
   "version": "3.6.5"
  }
 },
 "nbformat": 4,
 "nbformat_minor": 2
}
